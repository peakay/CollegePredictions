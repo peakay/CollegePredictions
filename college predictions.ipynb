{
 "cells": [
  {
   "cell_type": "code",
   "execution_count": 217,
   "metadata": {},
   "outputs": [
    {
     "name": "stdout",
     "output_type": "stream",
     "text": [
      "{'Denied': 0, 'Accepted': 1}\n"
     ]
    }
   ],
   "source": [
    "import pandas as pd\n",
    "import sqlite3\n",
    "import re\n",
    "X_train, X_test, y_train, y_test = train_test_split(X, y)\n",
    "\n",
    "conn = sqlite3.connect(\"profiles.db\")\n",
    "\n",
    "def convert_class_rank(cr_str):\n",
    "    cr = cr_str.split(' ')\n",
    "    return int(cr[0])/int(cr[2])\n",
    "\n",
    "def get_type_map(df_column):\n",
    "    return {t:i for i, t in enumerate(set(df_column))}\n",
    "\n",
    "def convert_sat_to_act(sat):\n",
    "    if sat >= 2380:\n",
    "        return 36\n",
    "    if sat < 2380 and sat >= 2290:\n",
    "        return 35\n",
    "    if sat < 2290 and sat >= 2220:\n",
    "        return 34\n",
    "    if sat < 2220 and sat >= 2140:\n",
    "        return 33\n",
    "    if sat < 2140 and sat >= 2080:\n",
    "        return 32\n",
    "    if sat < 2080 and sat >= 2020:\n",
    "        return 31\n",
    "    if sat < 2020 and sat >= 1980:\n",
    "        return 30\n",
    "    if sat < 1980 and sat >= 1920:\n",
    "        return 29\n",
    "    if sat < 1920 and sat >= 1860:\n",
    "        return 28\n",
    "    if sat < 1860 and sat >= 1800:\n",
    "        return 27\n",
    "    if sat < 1800 and sat >= 1740:\n",
    "        return 26\n",
    "    if sat < 1740 and sat >= 1680:\n",
    "        return 25\n",
    "    if sat < 1680 and sat >= 1620:\n",
    "        return 24\n",
    "    if sat < 1620 and sat >= 1560:\n",
    "        return 23\n",
    "    if sat < 1560 and sat >= 1510:\n",
    "        return 22\n",
    "    if sat < 1510 and sat >= 1450:\n",
    "        return 21\n",
    "    if sat < 1450 and sat >= 1390:\n",
    "        return 20\n",
    "    if sat < 1390 and sat >= 1330:\n",
    "        return 19\n",
    "    if sat < 1330 and sat >= 1270:\n",
    "        return 18\n",
    "    if sat < 1270 and sat >= 1210:\n",
    "        return 17\n",
    "    if sat < 1210 and sat >= 1140:\n",
    "        return 16\n",
    "    if sat < 1140 and sat >= 1060:\n",
    "        return 15\n",
    "    if sat < 1060 and sat >= 990:\n",
    "        return 14\n",
    "    if sat < 990:\n",
    "        return 13\n",
    "\n",
    "df = pd.read_sql_query(\"SELECT * FROM profiles\", conn)\n",
    "df['sat_c'] = df['sat_m']+df['sat_r']+df['sat_w']\n",
    "for col in ['sat_m', 'sat_r', 'sat_w']:\n",
    "    df = df.drop(col, axis=1)\n",
    "df['act'] = df.apply(lambda x: convert_sat_to_act(x['sat_c'] if pd.isnull(x['act']) else x['act']), axis=1)\n",
    "df = df.dropna()\n",
    "df = df[df.class_rank.str.match('\\d* (of) \\d*', na=False)]\n",
    "df['class_rank'] = df['class_rank'].apply(lambda x: convert_class_rank(x))\n",
    "replace_columns = ['hs_type', 'gender', 'status', 'hs_state', 'school']\n",
    "df['status'].replace({'Deferred': 'Denied', 'Wait-Listed': 'Denied', 'Will Attend': 'Accepted'}, inplace=True)\n",
    "print(get_type_map(df['status']))\n",
    "for col in replace_columns:\n",
    "    df[col].replace(get_type_map(df[col]), inplace=True)\n"
   ]
  },
  {
   "cell_type": "code",
   "execution_count": 224,
   "metadata": {},
   "outputs": [],
   "source": [
    "from sklearn.model_selection import train_test_split\n",
    "X = df.drop('year', axis=1)\n",
    "X = X.drop('status', axis=1)\n",
    "X = X.drop('hs_type', axis=1)\n",
    "X = X.drop('hs_state', axis=1)\n",
    "X = X.drop('athlete', axis=1)\n",
    "X = X.drop('sat_c', axis=1)\n",
    "y = df['status']\n"
   ]
  },
  {
   "cell_type": "code",
   "execution_count": 225,
   "metadata": {},
   "outputs": [],
   "source": [
    "from sklearn.preprocessing import StandardScaler\n",
    "scaler = StandardScaler()\n",
    "scaler.fit(X_train)\n",
    "X_train = scaler.transform(X_train)\n",
    "X_test = scaler.transform(X_test)\n"
   ]
  },
  {
   "cell_type": "code",
   "execution_count": 226,
   "metadata": {},
   "outputs": [],
   "source": [
    "from sklearn.neural_network import MLPClassifier\n",
    "mlp = MLPClassifier(hidden_layer_sizes=(11,11,11),max_iter=1000)\n"
   ]
  },
  {
   "cell_type": "code",
   "execution_count": 227,
   "metadata": {},
   "outputs": [
    {
     "data": {
      "text/plain": [
       "MLPClassifier(activation='relu', alpha=0.0001, batch_size='auto', beta_1=0.9,\n",
       "       beta_2=0.999, early_stopping=False, epsilon=1e-08,\n",
       "       hidden_layer_sizes=(11, 11, 11), learning_rate='constant',\n",
       "       learning_rate_init=0.001, max_iter=1000, momentum=0.9,\n",
       "       n_iter_no_change=10, nesterovs_momentum=True, power_t=0.5,\n",
       "       random_state=None, shuffle=True, solver='adam', tol=0.0001,\n",
       "       validation_fraction=0.1, verbose=False, warm_start=False)"
      ]
     },
     "execution_count": 227,
     "metadata": {},
     "output_type": "execute_result"
    }
   ],
   "source": [
    "mlp.fit(X_train,y_train)\n"
   ]
  },
  {
   "cell_type": "code",
   "execution_count": 228,
   "metadata": {},
   "outputs": [],
   "source": [
    "predictions = mlp.predict(X_test)\n"
   ]
  },
  {
   "cell_type": "code",
   "execution_count": 229,
   "metadata": {},
   "outputs": [
    {
     "name": "stdout",
     "output_type": "stream",
     "text": [
      "[[119 138]\n",
      " [108 661]]\n",
      "              precision    recall  f1-score   support\n",
      "\n",
      "           0       0.52      0.46      0.49       257\n",
      "           1       0.83      0.86      0.84       769\n",
      "\n",
      "   micro avg       0.76      0.76      0.76      1026\n",
      "   macro avg       0.68      0.66      0.67      1026\n",
      "weighted avg       0.75      0.76      0.76      1026\n",
      "\n"
     ]
    }
   ],
   "source": [
    "from sklearn.metrics import classification_report,confusion_matrix\n",
    "print(confusion_matrix(y_test,predictions))\n",
    "print(classification_report(y_test,predictions))\n"
   ]
  },
  {
   "cell_type": "code",
   "execution_count": null,
   "metadata": {},
   "outputs": [],
   "source": []
  },
  {
   "cell_type": "code",
   "execution_count": null,
   "metadata": {},
   "outputs": [],
   "source": []
  },
  {
   "cell_type": "code",
   "execution_count": null,
   "metadata": {},
   "outputs": [],
   "source": []
  }
 ],
 "metadata": {
  "kernelspec": {
   "display_name": "Python 3",
   "language": "python",
   "name": "python3"
  },
  "language_info": {
   "codemirror_mode": {
    "name": "ipython",
    "version": 3
   },
   "file_extension": ".py",
   "mimetype": "text/x-python",
   "name": "python",
   "nbconvert_exporter": "python",
   "pygments_lexer": "ipython3",
   "version": "3.7.0"
  }
 },
 "nbformat": 4,
 "nbformat_minor": 2
}
